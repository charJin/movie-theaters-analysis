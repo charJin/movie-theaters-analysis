{
 "cells": [
  {
   "cell_type": "code",
   "execution_count": 3,
   "id": "537954ee-065d-4f0a-b88a-6963a7f1f0f6",
   "metadata": {},
   "outputs": [
    {
     "name": "stderr",
     "output_type": "stream",
     "text": [
      "Matplotlib is building the font cache; this may take a moment.\n"
     ]
    }
   ],
   "source": [
    "import pandas as pd\n",
    "import seaborn as sns\n",
    "import matplotlib.pyplot as plt"
   ]
  },
  {
   "cell_type": "code",
   "execution_count": 6,
   "id": "9ca34bba-91f0-4dda-9378-a4c3f4b8d13d",
   "metadata": {},
   "outputs": [],
   "source": [
    "# Load Netflix Stocks Data\n",
    "netflix_stock_data = pd.read_csv('../data/netflix_stock_data.csv')\n",
    "# Load Box Office Movies Data\n",
    "movies_data = pd.read_csv('../data/movies_data.csv')"
   ]
  },
  {
   "cell_type": "code",
   "execution_count": 7,
   "id": "fbcc0443-501f-42b4-8041-5482f8fa941f",
   "metadata": {},
   "outputs": [
    {
     "name": "stdout",
     "output_type": "stream",
     "text": [
      "<class 'pandas.core.frame.DataFrame'>\n",
      "RangeIndex: 2663 entries, 0 to 2662\n",
      "Data columns (total 7 columns):\n",
      " #   Column     Non-Null Count  Dtype \n",
      "---  ------     --------------  ----- \n",
      " 0   Price      2663 non-null   object\n",
      " 1   Adj Close  2662 non-null   object\n",
      " 2   Close      2662 non-null   object\n",
      " 3   High       2662 non-null   object\n",
      " 4   Low        2662 non-null   object\n",
      " 5   Open       2662 non-null   object\n",
      " 6   Volume     2662 non-null   object\n",
      "dtypes: object(7)\n",
      "memory usage: 145.8+ KB\n"
     ]
    }
   ],
   "source": [
    "netflix_stock_data.info()"
   ]
  },
  {
   "cell_type": "code",
   "execution_count": 9,
   "id": "267a16ad-b802-4ceb-81e0-7d6670271527",
   "metadata": {},
   "outputs": [
    {
     "data": {
      "text/html": [
       "<div>\n",
       "<style scoped>\n",
       "    .dataframe tbody tr th:only-of-type {\n",
       "        vertical-align: middle;\n",
       "    }\n",
       "\n",
       "    .dataframe tbody tr th {\n",
       "        vertical-align: top;\n",
       "    }\n",
       "\n",
       "    .dataframe thead th {\n",
       "        text-align: right;\n",
       "    }\n",
       "</style>\n",
       "<table border=\"1\" class=\"dataframe\">\n",
       "  <thead>\n",
       "    <tr style=\"text-align: right;\">\n",
       "      <th></th>\n",
       "      <th>Price</th>\n",
       "      <th>Adj Close</th>\n",
       "      <th>Close</th>\n",
       "      <th>High</th>\n",
       "      <th>Low</th>\n",
       "      <th>Open</th>\n",
       "      <th>Volume</th>\n",
       "    </tr>\n",
       "  </thead>\n",
       "  <tbody>\n",
       "    <tr>\n",
       "      <th>0</th>\n",
       "      <td>Ticker</td>\n",
       "      <td>NFLX</td>\n",
       "      <td>NFLX</td>\n",
       "      <td>NFLX</td>\n",
       "      <td>NFLX</td>\n",
       "      <td>NFLX</td>\n",
       "      <td>NFLX</td>\n",
       "    </tr>\n",
       "    <tr>\n",
       "      <th>1</th>\n",
       "      <td>Date</td>\n",
       "      <td>NaN</td>\n",
       "      <td>NaN</td>\n",
       "      <td>NaN</td>\n",
       "      <td>NaN</td>\n",
       "      <td>NaN</td>\n",
       "      <td>NaN</td>\n",
       "    </tr>\n",
       "    <tr>\n",
       "      <th>2</th>\n",
       "      <td>2014-01-02 00:00:00+00:00</td>\n",
       "      <td>51.83142852783203</td>\n",
       "      <td>51.83142852783203</td>\n",
       "      <td>52.51142883300781</td>\n",
       "      <td>51.5428581237793</td>\n",
       "      <td>52.40142822265625</td>\n",
       "      <td>12325600</td>\n",
       "    </tr>\n",
       "    <tr>\n",
       "      <th>3</th>\n",
       "      <td>2014-01-03 00:00:00+00:00</td>\n",
       "      <td>51.871429443359375</td>\n",
       "      <td>51.871429443359375</td>\n",
       "      <td>52.49571228027344</td>\n",
       "      <td>51.842857360839844</td>\n",
       "      <td>52.0</td>\n",
       "      <td>10817100</td>\n",
       "    </tr>\n",
       "    <tr>\n",
       "      <th>4</th>\n",
       "      <td>2014-01-06 00:00:00+00:00</td>\n",
       "      <td>51.36714172363281</td>\n",
       "      <td>51.36714172363281</td>\n",
       "      <td>52.04428482055664</td>\n",
       "      <td>50.47571563720703</td>\n",
       "      <td>51.88999938964844</td>\n",
       "      <td>15501500</td>\n",
       "    </tr>\n",
       "  </tbody>\n",
       "</table>\n",
       "</div>"
      ],
      "text/plain": [
       "                       Price           Adj Close               Close  \\\n",
       "0                     Ticker                NFLX                NFLX   \n",
       "1                       Date                 NaN                 NaN   \n",
       "2  2014-01-02 00:00:00+00:00   51.83142852783203   51.83142852783203   \n",
       "3  2014-01-03 00:00:00+00:00  51.871429443359375  51.871429443359375   \n",
       "4  2014-01-06 00:00:00+00:00   51.36714172363281   51.36714172363281   \n",
       "\n",
       "                High                 Low               Open    Volume  \n",
       "0               NFLX                NFLX               NFLX      NFLX  \n",
       "1                NaN                 NaN                NaN       NaN  \n",
       "2  52.51142883300781    51.5428581237793  52.40142822265625  12325600  \n",
       "3  52.49571228027344  51.842857360839844               52.0  10817100  \n",
       "4  52.04428482055664   50.47571563720703  51.88999938964844  15501500  "
      ]
     },
     "execution_count": 9,
     "metadata": {},
     "output_type": "execute_result"
    }
   ],
   "source": [
    "netflix_stock_data.head(5)"
   ]
  },
  {
   "cell_type": "code",
   "execution_count": 8,
   "id": "912532fb-8a58-4203-8446-c01e35e96e51",
   "metadata": {},
   "outputs": [
    {
     "name": "stdout",
     "output_type": "stream",
     "text": [
      "<class 'pandas.core.frame.DataFrame'>\n",
      "RangeIndex: 3951 entries, 0 to 3950\n",
      "Data columns (total 10 columns):\n",
      " #   Column        Non-Null Count  Dtype \n",
      "---  ------        --------------  ----- \n",
      " 0   Year          3951 non-null   int64 \n",
      " 1   Date          3951 non-null   object\n",
      " 2   Day           3951 non-null   object\n",
      " 3   Day #         3951 non-null   int64 \n",
      " 4   Top 10 Gross  3951 non-null   object\n",
      " 5   %± YD         3951 non-null   object\n",
      " 6   %± LW         3951 non-null   object\n",
      " 7   Releases      3951 non-null   int64 \n",
      " 8   #1 Release    3951 non-null   object\n",
      " 9   Gross         3951 non-null   object\n",
      "dtypes: int64(3), object(7)\n",
      "memory usage: 308.8+ KB\n"
     ]
    }
   ],
   "source": [
    "movies_data.info()"
   ]
  },
  {
   "cell_type": "code",
   "execution_count": 10,
   "id": "2e5ce8ea-0d38-4d14-99b9-cb4d517c876c",
   "metadata": {},
   "outputs": [
    {
     "data": {
      "text/html": [
       "<div>\n",
       "<style scoped>\n",
       "    .dataframe tbody tr th:only-of-type {\n",
       "        vertical-align: middle;\n",
       "    }\n",
       "\n",
       "    .dataframe tbody tr th {\n",
       "        vertical-align: top;\n",
       "    }\n",
       "\n",
       "    .dataframe thead th {\n",
       "        text-align: right;\n",
       "    }\n",
       "</style>\n",
       "<table border=\"1\" class=\"dataframe\">\n",
       "  <thead>\n",
       "    <tr style=\"text-align: right;\">\n",
       "      <th></th>\n",
       "      <th>Year</th>\n",
       "      <th>Date</th>\n",
       "      <th>Day</th>\n",
       "      <th>Day #</th>\n",
       "      <th>Top 10 Gross</th>\n",
       "      <th>%± YD</th>\n",
       "      <th>%± LW</th>\n",
       "      <th>Releases</th>\n",
       "      <th>#1 Release</th>\n",
       "      <th>Gross</th>\n",
       "    </tr>\n",
       "  </thead>\n",
       "  <tbody>\n",
       "    <tr>\n",
       "      <th>0</th>\n",
       "      <td>2014</td>\n",
       "      <td>Jan 1\\nNew Year's Day</td>\n",
       "      <td>Wednesday</td>\n",
       "      <td>1</td>\n",
       "      <td>$48,419,707</td>\n",
       "      <td>+35%</td>\n",
       "      <td>-27.9%</td>\n",
       "      <td>49</td>\n",
       "      <td>Frozen</td>\n",
       "      <td>$8,718,939</td>\n",
       "    </tr>\n",
       "    <tr>\n",
       "      <th>1</th>\n",
       "      <td>2014</td>\n",
       "      <td>Jan 2</td>\n",
       "      <td>Thursday</td>\n",
       "      <td>2</td>\n",
       "      <td>$25,361,378</td>\n",
       "      <td>-47.6%</td>\n",
       "      <td>-56.6%</td>\n",
       "      <td>49</td>\n",
       "      <td>Frozen</td>\n",
       "      <td>$5,304,617</td>\n",
       "    </tr>\n",
       "    <tr>\n",
       "      <th>2</th>\n",
       "      <td>2014</td>\n",
       "      <td>Jan 3</td>\n",
       "      <td>Friday</td>\n",
       "      <td>3</td>\n",
       "      <td>$42,939,384</td>\n",
       "      <td>+69.3%</td>\n",
       "      <td>-26.8%</td>\n",
       "      <td>45</td>\n",
       "      <td>Paranormal Activity: The Marked Ones</td>\n",
       "      <td>$8,722,144</td>\n",
       "    </tr>\n",
       "    <tr>\n",
       "      <th>3</th>\n",
       "      <td>2014</td>\n",
       "      <td>Jan 4</td>\n",
       "      <td>Saturday</td>\n",
       "      <td>4</td>\n",
       "      <td>$49,402,611</td>\n",
       "      <td>+15.1%</td>\n",
       "      <td>-19.7%</td>\n",
       "      <td>45</td>\n",
       "      <td>Frozen</td>\n",
       "      <td>$8,037,475</td>\n",
       "    </tr>\n",
       "    <tr>\n",
       "      <th>4</th>\n",
       "      <td>2014</td>\n",
       "      <td>Jan 5</td>\n",
       "      <td>Sunday</td>\n",
       "      <td>5</td>\n",
       "      <td>$26,723,321</td>\n",
       "      <td>-45.9%</td>\n",
       "      <td>-44.1%</td>\n",
       "      <td>45</td>\n",
       "      <td>Frozen</td>\n",
       "      <td>$4,785,996</td>\n",
       "    </tr>\n",
       "  </tbody>\n",
       "</table>\n",
       "</div>"
      ],
      "text/plain": [
       "   Year                   Date        Day  Day # Top 10 Gross   %± YD   %± LW  \\\n",
       "0  2014  Jan 1\\nNew Year's Day  Wednesday      1  $48,419,707    +35%  -27.9%   \n",
       "1  2014                  Jan 2   Thursday      2  $25,361,378  -47.6%  -56.6%   \n",
       "2  2014                  Jan 3     Friday      3  $42,939,384  +69.3%  -26.8%   \n",
       "3  2014                  Jan 4   Saturday      4  $49,402,611  +15.1%  -19.7%   \n",
       "4  2014                  Jan 5     Sunday      5  $26,723,321  -45.9%  -44.1%   \n",
       "\n",
       "   Releases                            #1 Release       Gross  \n",
       "0        49                                Frozen  $8,718,939  \n",
       "1        49                                Frozen  $5,304,617  \n",
       "2        45  Paranormal Activity: The Marked Ones  $8,722,144  \n",
       "3        45                                Frozen  $8,037,475  \n",
       "4        45                                Frozen  $4,785,996  "
      ]
     },
     "execution_count": 10,
     "metadata": {},
     "output_type": "execute_result"
    }
   ],
   "source": [
    "movies_data.head(5)"
   ]
  },
  {
   "cell_type": "code",
   "execution_count": null,
   "id": "e8ac7592-ca1a-48e8-99f0-9b67495bbaf1",
   "metadata": {},
   "outputs": [],
   "source": []
  }
 ],
 "metadata": {
  "kernelspec": {
   "display_name": "Python 3 (ipykernel)",
   "language": "python",
   "name": "python3"
  },
  "language_info": {
   "codemirror_mode": {
    "name": "ipython",
    "version": 3
   },
   "file_extension": ".py",
   "mimetype": "text/x-python",
   "name": "python",
   "nbconvert_exporter": "python",
   "pygments_lexer": "ipython3",
   "version": "3.9.6"
  }
 },
 "nbformat": 4,
 "nbformat_minor": 5
}
